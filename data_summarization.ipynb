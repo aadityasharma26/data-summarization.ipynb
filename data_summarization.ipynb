{
  "nbformat": 4,
  "nbformat_minor": 0,
  "metadata": {
    "colab": {
      "provenance": []
    },
    "kernelspec": {
      "name": "python3",
      "display_name": "Python 3"
    },
    "language_info": {
      "name": "python"
    }
  },
  "cells": [
    {
      "cell_type": "markdown",
      "source": [
        "## **Session Flow:**\n",
        "\n",
        "👨🏻‍🎓 Learning Objective:\n",
        "\n",
        "* Introduction\n",
        "* Theme\n",
        "* Primary Goals\n",
        "\n",
        "🧮 Introduction to data summarization\n",
        "\n",
        "* overview of descriptive statistics, data visualization and some other terms\n",
        "\n",
        "\n",
        "🔄 Descriptive statistics and its uses\n",
        "\n",
        "* introduction to mean, median and mode\n",
        "\n",
        "🔍 Measures of central tendency\n",
        "\n",
        "* Activity 1\n",
        "\n",
        "🌟 Measures of dispersion: Variance, Standard Deviation, and Range\n",
        "\n",
        "📚 Percentile and quartiles\n",
        "\n",
        "* Activity 2\n",
        "\n",
        "✏ Skewness and kurtosis\n",
        "\n",
        "* types of skewness\n",
        "\n",
        "* types of kurtosis\n",
        "\n",
        "* Activity 3\n",
        "\n",
        "🔖 Outlier detection and treatment\n",
        "\n",
        "📝 Summary\n",
        "\n",
        "* What did we learn?\n",
        "* Shortcomings & Challenges\n",
        "* Best Practices & Tips\n",
        "\n",
        "🔗 Enhance your Knowledge\n",
        "\n",
        "* Mnemonic\n",
        "* Additional Resources\n",
        "\n",
        "🔍 Try it Yourself\n",
        "\n",
        "* Activities\n",
        "* Social Engagement"
      ],
      "metadata": {
        "id": "LygiUW7jbEmp"
      }
    },
    {
      "cell_type": "markdown",
      "source": [
        "# **👨🏻‍🎓 Learning Objective 👨🏻‍🎓**"
      ],
      "metadata": {
        "id": "TYg-qK1qhZoG"
      }
    },
    {
      "cell_type": "markdown",
      "source": [
        "## **Introduction:**\n",
        "\n",
        "📢 Attention Students! 📢\n",
        "\n",
        "In your upcoming class, you will be delving into the fascinating world of 📊 Data Summarization 📊. This is an essential skill that will help you analyze and interpret data effectively.\n",
        "\n",
        "During this course, you'll learn about various techniques and tools that are commonly used to summarize data. Some of the primary topics that you'll be covering are:\n",
        "\n",
        "📈 Descriptive Statistics and its uses: Descriptive statistics is the branch of statistics that deals with the collection, presentation, and interpretation of data. You'll learn how to use various measures of central tendency, such as mean, median, and mode, to describe the typical value of a dataset.\n",
        "\n",
        "📉 Measures of Central Tendency: In addition to mean, median, and mode, you'll also learn about other measures of central tendency, such as geometric mean, harmonic mean, and weighted mean. You'll understand how to choose the appropriate measure based on the type of data you're working with.\n",
        "\n",
        "📊 Measures of Dispersion: Measures of dispersion, such as range, variance, and standard deviation, help you understand the spread of the data. You'll learn how to calculate and interpret these measures, which are critical to making informed decisions based on data.\n",
        "\n",
        "📈 Percentiles and Quartiles: Percentiles and quartiles are used to divide a dataset into equal parts. You'll learn how to calculate and interpret percentiles and quartiles, which are particularly useful for comparing data across different groups.\n",
        "\n",
        "📉 Skewness and Kurtosis: Skewness and kurtosis are measures of the shape of a dataset. You'll learn how to calculate and interpret these measures, which are essential for identifying any outliers or unusual patterns in the data.\n",
        "\n",
        "🔍 Outlier Detection and Treatment: Outliers are data points that are significantly different from the rest of the data. You'll learn how to detect outliers and decide how to treat them, depending on the nature of the data and the research question.\n",
        "\n",
        "By the end of this course, you'll be equipped with a wide range of techniques and tools that will enable you to summarize and interpret data effectively. So, buckle up and get ready to become a pro in summarizing data! 🚀"
      ],
      "metadata": {
        "id": "kvZZnuUSha7t"
      }
    },
    {
      "cell_type": "markdown",
      "source": [
        "##**Theme**\n",
        "\n",
        "Data summarization is essential because it distills complex and voluminous datasets into concise and meaningful representations, enabling efficient understanding and communication of the underlying information. By condensing raw data into key statistical measures, visualizations, or descriptive attributes, data summarization allows individuals to quickly grasp essential trends, patterns, and insights. This process not only simplifies decision-making but also facilitates comparisons, hypothesis formulation, and hypothesis testing. Summarized data is more accessible, making it easier to communicate findings to a wide audience, regardless of their level of expertise. Additionally, data summarization helps in identifying outliers, anomalies, and potential errors, enhancing data quality assessment and cleaning processes. In a world inundated with data, effective summarization empowers analysts, researchers, and decision-makers to efficiently extract valuable insights, ultimately driving informed actions and strategies."
      ],
      "metadata": {
        "id": "CDWOPTUxvH9s"
      }
    },
    {
      "cell_type": "markdown",
      "source": [
        "## **Primary Goals:**\n",
        "\n",
        "🎯 In this lesson, our primary goals are to:\n",
        "\n",
        "📊 Understand the basics of data summarization\n",
        "\n",
        "📈 Learn how to calculate and interpret measures of central tendency\n",
        "\n",
        "📉 Learn how to calculate and interpret measures of dispersion\n",
        "\n",
        "🔍 Understand how to identify and treat outliers\n",
        "\n",
        "📈 Learn how to calculate percentiles and quartiles\n",
        "\n",
        "📉 Understand how to calculate and interpret measures of skewness and kurtosis\n",
        "\n",
        "\n",
        "💡 By the end of this lesson, you'll have a solid understanding of the fundamental concepts of data summarization and the tools you can use to analyze data. You'll be able to apply these techniques to a wide range of datasets, enabling you to make informed decisions and draw meaningful insights from data."
      ],
      "metadata": {
        "id": "Bh8qgxc-ul2V"
      }
    },
    {
      "cell_type": "markdown",
      "source": [
        "# **📖 Learning Material 📖**"
      ],
      "metadata": {
        "id": "D8twAQobhbk1"
      }
    },
    {
      "cell_type": "markdown",
      "source": [
        "**Introduction:**"
      ],
      "metadata": {
        "id": "GWlrcfYjhe6g"
      }
    },
    {
      "cell_type": "markdown",
      "source": [
        "📊📈📉 Data summarization is the process of presenting a large dataset in a concise and meaningful way.\n",
        "\n",
        "📝 Here are some important concepts and techniques in data summarization:\n",
        "\n",
        "**1️⃣ Descriptive statistics:**\n",
        "\n",
        "These are statistical measures that describe the main features of a dataset, including measures of central tendency (mean, median, mode) and measures of dispersion (range, variance, standard deviation).\n",
        "\n",
        "**2️⃣ Data visualization:**\n",
        "\n",
        "This involves representing data in a graphical or pictorial form, which can help to reveal patterns and relationships that may not be apparent from numerical summaries alone. Examples include histograms, scatter plots, and box plots.\n",
        "\n",
        "**3️⃣ Aggregation:**\n",
        "\n",
        "This involves combining data into groups or categories to facilitate analysis. Common methods of aggregation include grouping by time periods, geographic regions, or other relevant factors.\n",
        "\n",
        "**4️⃣ Sampling:**\n",
        "\n",
        "This involves selecting a subset of data from a larger dataset in order to gain insights about the larger population. Various sampling techniques can be used depending on the nature of the data and the research question.\n",
        "\n",
        "**5️⃣ Dimensionality reduction:**\n",
        "\n",
        "This involves reducing the number of variables in a dataset while still retaining as much information as possible. Techniques such as principal component analysis and factor analysis can be used for this purpose.\n",
        "\n",
        "**6️⃣ Machine learning:**\n",
        "\n",
        "This involves using algorithms to automatically identify patterns and relationships in a dataset. Techniques such as clustering, regression, and classification can be used to summarize data and make predictions.\n",
        "\n",
        "🖥️ Here's an example of using Python's pandas library to calculate some basic descriptive statistics for a dataset:"
      ],
      "metadata": {
        "id": "yZ42Fb-7jE79"
      }
    },
    {
      "cell_type": "markdown",
      "source": [
        "\n",
        "\n",
        "```\n",
        "import pandas as pd\n",
        "\n",
        "data = pd.read_csv('mydata.csv') # mydata.csv can be any numerical data\n",
        "print('Mean:', data.mean())\n",
        "print('Standard deviation:', data.std())\n",
        "print('Range:', data.max() - data.min())\n",
        "```\n",
        "\n"
      ],
      "metadata": {
        "id": "3ksOwjyDjf9K"
      }
    },
    {
      "cell_type": "markdown",
      "source": [
        "📊 And here's an example of using Python's matplotlib library to create a histogram of the data:"
      ],
      "metadata": {
        "id": "M1gd4gKIjUxg"
      }
    },
    {
      "cell_type": "code",
      "source": [
        "import matplotlib.pyplot as plt\n",
        "\n",
        "data = [1, 2, 3, 3, 4, 5, 5, 5, 6, 7]\n",
        "plt.hist(data)\n",
        "plt.show()\n"
      ],
      "metadata": {
        "colab": {
          "base_uri": "https://localhost:8080/",
          "height": 430
        },
        "id": "7vwTYzfQjXq7",
        "outputId": "7fe6a89f-9952-48f6-908f-aeb5478438dd"
      },
      "execution_count": null,
      "outputs": [
        {
          "output_type": "display_data",
          "data": {
            "text/plain": [
              "<Figure size 640x480 with 1 Axes>"
            ],
            "image/png": "[encoded data removed]"
          },
          "metadata": {}
        }
      ]
    },
    {
      "cell_type": "markdown",
      "source": [
        "## **Descriptive statistics and their uses**"
      ],
      "metadata": {
        "id": "hybarXrwjiqV"
      }
    },
    {
      "cell_type": "markdown",
      "source": [
        "📊 Descriptive statistics are used to summarize and describe the important characteristics of a dataset, including measures of central tendency (mean, median, mode) and measures of variability (range, variance, standard deviation).\n",
        "\n",
        "📈 These statistics help to provide a quick overview of the data, identify patterns or trends, and determine if the data is skewed or has outliers.\n",
        "\n",
        "📉 Descriptive statistics can be calculated using various Python libraries such as NumPy, Pandas, and SciPy.\n",
        "\n",
        "📊 The most common descriptive statistics include:\n",
        "\n",
        "**Mean:** the arithmetic average of a set of values.\n",
        "\n",
        "**Median:** the middle value in a set of values when arranged in order.\n",
        "\n",
        "**Mode:** the value that appears most frequently in a set of values.\n",
        "\n",
        "**Range:** the difference between the maximum and minimum values in a set of values.\n",
        "\n",
        "**Variance:** a measure of how spread out the values are from the mean.\n",
        "\n",
        "**Standard deviation:** the square root of the variance, providing a measure of the spread of the data around the mean.\n",
        "\n",
        "***📈 These statistics can be calculated using Python libraries such as NumPy, Pandas, and SciPy. Here's an example using NumPy:***"
      ],
      "metadata": {
        "id": "pKefr4nojzvl"
      }
    },
    {
      "cell_type": "code",
      "source": [
        "import numpy as np\n",
        "\n",
        "data = np.array([10, 20, 30, 40, 50])\n",
        "\n",
        "# Mean\n",
        "mean = np.mean(data)\n",
        "print(\"Mean:\", mean)\n",
        "\n",
        "# Median\n",
        "median = np.median(data)\n",
        "print(\"Median:\", median)\n",
        "\n",
        "# Range\n",
        "range = np.ptp(data)\n",
        "print(\"Range:\", range)\n",
        "\n",
        "# Variance\n",
        "variance = np.var(data)\n",
        "print(\"Variance:\", variance)\n",
        "\n",
        "# Standard deviation\n",
        "std_dev = np.std(data)\n",
        "print(\"Standard deviation:\", std_dev)\n"
      ],
      "metadata": {
        "colab": {
          "base_uri": "https://localhost:8080/"
        },
        "id": "Jet0ciArkKuM",
        "outputId": "cd27c7a6-fb44-4637-b9b6-e61861eecd2b"
      },
      "execution_count": null,
      "outputs": [
        {
          "output_type": "stream",
          "name": "stdout",
          "text": [
            "Mean: 30.0\n",
            "Median: 30.0\n",
            "Range: 40\n",
            "Variance: 200.0\n",
            "Standard deviation: 14.142135623730951\n"
          ]
        }
      ]
    },
    {
      "cell_type": "markdown",
      "source": [
        "##**Measures of central tendency: mean, median, and mode:**"
      ],
      "metadata": {
        "id": "rKoCSKdKklhU"
      }
    },
    {
      "cell_type": "markdown",
      "source": [
        "📊 📏 📈\n",
        "\n",
        "Measures of central tendency are statistical measures that determine the center of a dataset. The three most common measures of central tendency are mean, median, and mode.\n",
        "\n",
        "Here are some important points to consider about these measures:\n",
        "\n",
        "**Mean:**\n",
        "\n",
        "It is the arithmetic average of a dataset and is calculated by summing all values in the dataset and dividing by the number of observations. Mean can be sensitive to outliers and extreme values in a dataset. The formula for calculating the mean is:\n",
        "\n",
        "*mean = (sum of all values) / (number of observations)*\n",
        "\n",
        "**Median:**\n",
        "\n",
        "It is the middle value in a dataset when the values are arranged in ascending or descending order. Median is less sensitive to outliers compared to mean. In case of even number of observations, the median is calculated as the average of the two middle values.\n",
        "\n",
        "**Mode:**\n",
        "\n",
        "It is the most frequently occurring value in a dataset. Mode can be used for both numerical and categorical data. A dataset can have one or more modes, or it may have no mode at all.\n",
        "\n",
        "***Here are some examples of code samples in Python to calculate these measures using NumPy library:***"
      ],
      "metadata": {
        "id": "I6vj0173ktsg"
      }
    },
    {
      "cell_type": "code",
      "source": [
        "import numpy as np\n",
        "\n",
        "# Example dataset\n",
        "data = [1, 2, 3, 4, 5, 5, 6, 7, 8, 8, 8]\n",
        "\n",
        "# Mean\n",
        "mean = np.mean(data)\n",
        "print(\"Mean:\", mean)\n",
        "\n",
        "# Median\n",
        "median = np.median(data)\n",
        "print(\"Median:\", median)\n",
        "\n"
      ],
      "metadata": {
        "colab": {
          "base_uri": "https://localhost:8080/"
        },
        "id": "KKumdlcSlLAY",
        "outputId": "73bc8f4d-ec5c-4475-e3ab-25d17cfafa1c"
      },
      "execution_count": null,
      "outputs": [
        {
          "output_type": "stream",
          "name": "stdout",
          "text": [
            "Mean: 5.181818181818182\n",
            "Median: 5.0\n"
          ]
        }
      ]
    },
    {
      "cell_type": "markdown",
      "source": [
        "Overall, measures of central tendency are useful for summarizing a dataset and providing insights into the data. It is important to choose the appropriate measure of central tendency based on the nature of the data and the research question being investigated."
      ],
      "metadata": {
        "id": "_4WsV-F7lRIh"
      }
    },
    {
      "cell_type": "markdown",
      "source": [
        "##**Activity: Guess the word**"
      ],
      "metadata": {
        "id": "SRteTkdUVKrU"
      }
    },
    {
      "cell_type": "markdown",
      "source": [
        "\n",
        "* Riddle 1: In a list of numbers, I take my stand,\n",
        "A balanced point within the band.\n",
        "Summing up, then dividing true,\n",
        "I'm the average that's sought by you.\n",
        "What am I?\n",
        "\n",
        "* Riddle 2: Among the numbers, I'm the one most seen,\n",
        "The peak of the data, where I reign as queen.\n",
        "Repeat it I do, more times than the rest,\n",
        "In the world of statistics, I'm considered the best.\n",
        "What am I?\n",
        "\n"
      ],
      "metadata": {
        "id": "6nvAYxGD8K6b"
      }
    },
    {
      "cell_type": "markdown",
      "source": [
        "##**Measures of dispersion: Variance, Standard Deviation, and Range:**"
      ],
      "metadata": {
        "id": "fyp3LdgTldea"
      }
    },
    {
      "cell_type": "markdown",
      "source": [
        "📊 Measures of dispersion are statistical values that help to describe how spread out a dataset is.\n",
        "\n",
        "📏 Range is the simplest measure of dispersion and is defined as the difference between the maximum and minimum values in a dataset.\n",
        "\n",
        "📐 Variance is a measure of how much the data points are dispersed around the mean value. It is calculated by taking the average of the squared differences between each data point and the mean.\n",
        "\n",
        "📈 Standard deviation is another measure of dispersion that indicates how much the data deviates from the mean value. It is the square root of the variance and is often used as a more interpretable measure of dispersion compared to variance.\n",
        "\n",
        "***Here are some code examples in Python:***\n",
        "\n"
      ],
      "metadata": {
        "id": "88DrwTMR2fDs"
      }
    },
    {
      "cell_type": "markdown",
      "source": [
        "To calculate range:"
      ],
      "metadata": {
        "id": "3vl8cf4u21fI"
      }
    },
    {
      "cell_type": "code",
      "source": [
        "data = [5, 10, 15, 20, 25]\n",
        "range_value = max(data) - min(data)\n",
        "print(\"Range value:\", range_value)\n"
      ],
      "metadata": {
        "colab": {
          "base_uri": "https://localhost:8080/"
        },
        "id": "nIlQAJhb22Y9",
        "outputId": "c2f17068-707a-42f0-b751-46b292ba04e1"
      },
      "execution_count": null,
      "outputs": [
        {
          "output_type": "stream",
          "name": "stdout",
          "text": [
            "Range value: 20\n"
          ]
        }
      ]
    },
    {
      "cell_type": "markdown",
      "source": [
        "To calculate variance and standard deviation using Python's statistics module:\n",
        "\n"
      ],
      "metadata": {
        "id": "esp7LFTE24xS"
      }
    },
    {
      "cell_type": "code",
      "source": [
        "import statistics\n",
        "\n",
        "data = [5, 10, 15, 20, 25]\n",
        "variance = statistics.variance(data)\n",
        "std_deviation = statistics.stdev(data)\n",
        "\n",
        "print(\"Variance:\", variance)\n",
        "print(\"Standard deviation:\", std_deviation)\n"
      ],
      "metadata": {
        "colab": {
          "base_uri": "https://localhost:8080/"
        },
        "id": "mXPusZLQ27gB",
        "outputId": "d9c6558a-f2e6-4435-9b78-07b23c6de95e"
      },
      "execution_count": null,
      "outputs": [
        {
          "output_type": "stream",
          "name": "stdout",
          "text": [
            "Variance: 62.5\n",
            "Standard deviation: 7.905694150420948\n"
          ]
        }
      ]
    },
    {
      "cell_type": "markdown",
      "source": [
        "Alternatively, you can also calculate variance and standard deviation manually:\n",
        "\n"
      ],
      "metadata": {
        "id": "fSi-_8nh2-IA"
      }
    },
    {
      "cell_type": "code",
      "source": [
        "data = [5, 10, 15, 20, 25]\n",
        "mean = sum(data) / len(data)\n",
        "variance = sum((x - mean) ** 2 for x in data) / len(data)\n",
        "std_deviation = variance ** 0.5\n",
        "\n",
        "print(\"Variance:\", variance)\n",
        "print(\"Standard deviation:\", std_deviation)\n"
      ],
      "metadata": {
        "colab": {
          "base_uri": "https://localhost:8080/"
        },
        "id": "d-NPqnc-2_0W",
        "outputId": "bf9f9408-0b32-4dc6-f4b3-7f3be52811fa"
      },
      "execution_count": null,
      "outputs": [
        {
          "output_type": "stream",
          "name": "stdout",
          "text": [
            "Variance: 50.0\n",
            "Standard deviation: 7.0710678118654755\n"
          ]
        }
      ]
    },
    {
      "cell_type": "markdown",
      "source": [
        "## **Percentiles and Quartiles:**"
      ],
      "metadata": {
        "id": "We_Eo3Df3UVI"
      }
    },
    {
      "cell_type": "markdown",
      "source": [
        "📊 Percentiles and quartiles are important measures of relative standing or position of a value in a data set.\n",
        "\n",
        "📈 Percentiles divide a dataset into 100 equal parts, each representing 1% of the data. For example, the 75th percentile is the value below which 75% of the data falls.\n",
        "\n",
        "📊 Quartiles divide a dataset into four equal parts, each representing 25% of the data. The first quartile (Q1) is the 25th percentile, the second quartile (Q2) is the 50th percentile (also known as the median), and the third quartile (Q3) is the 75th percentile.\n",
        "\n",
        "📈 Percentiles and quartiles can be calculated using various methods, such as interpolation, nearest rank, and the inverse of the cumulative distribution function.\n",
        "\n",
        "📊 The most commonly used method for calculating percentiles and quartiles is the interpolation method. This method estimates the percentile value by interpolating between the two nearest values in the dataset.\n",
        "\n",
        "📈 In Python, you can use the NumPy library to calculate percentiles and quartiles. The percentile() function can be used to calculate any percentile value, and the quantile() function can be used to calculate quartiles.\n",
        "\n",
        "***Example code for calculating percentiles:***"
      ],
      "metadata": {
        "id": "VW2g3-I-3Z68"
      }
    },
    {
      "cell_type": "code",
      "source": [
        "import numpy as np\n",
        "\n",
        "data = [3, 1, 4, 2, 5, 7, 6, 8, 9, 10]\n",
        "p75 = np.percentile(data, 75)\n",
        "print(\"75th percentile value is:\", p75)\n"
      ],
      "metadata": {
        "colab": {
          "base_uri": "https://localhost:8080/"
        },
        "id": "90il1cZv35cb",
        "outputId": "3c04b776-00bd-4fff-c730-9cbb0448640b"
      },
      "execution_count": null,
      "outputs": [
        {
          "output_type": "stream",
          "name": "stdout",
          "text": [
            "75th percentile value is: 7.75\n"
          ]
        }
      ]
    },
    {
      "cell_type": "markdown",
      "source": [
        "Example code for calculating quartiles:\n",
        "\n"
      ],
      "metadata": {
        "id": "tgkl2QPh38M_"
      }
    },
    {
      "cell_type": "code",
      "source": [
        "import numpy as np\n",
        "\n",
        "data = [3, 1, 4, 2, 5, 7, 6, 8, 9, 10]\n",
        "q1 = np.quantile(data, 0.25)\n",
        "q2 = np.quantile(data, 0.5)\n",
        "q3 = np.quantile(data, 0.75)\n",
        "\n",
        "print(\"Q1 value is:\", q1)\n",
        "print(\"Q2 value is:\", q2)\n",
        "print(\"Q3 value is:\", q3)\n"
      ],
      "metadata": {
        "colab": {
          "base_uri": "https://localhost:8080/"
        },
        "id": "wcMBsRZV3-Hq",
        "outputId": "b91ae4d8-abb7-49f5-c017-09c6884149e8"
      },
      "execution_count": null,
      "outputs": [
        {
          "output_type": "stream",
          "name": "stdout",
          "text": [
            "Q1 value is: 3.25\n",
            "Q2 value is: 5.5\n",
            "Q3 value is: 7.75\n"
          ]
        }
      ]
    },
    {
      "cell_type": "markdown",
      "source": [
        "**More Examples:**"
      ],
      "metadata": {
        "id": "y86TGC9WX8aS"
      }
    },
    {
      "cell_type": "code",
      "source": [
        "import matplotlib.pyplot as plt\n",
        "import numpy as np\n",
        "\n",
        "# example data\n",
        "data = [3, 5, 7, 9, 11, 13, 15, 17, 19, 21]\n",
        "\n",
        "# calculate quartiles\n",
        "q1, q2, q3 = np.percentile(data, [25, 50, 75])\n",
        "\n",
        "# create box plot\n",
        "plt.boxplot(data)\n",
        "plt.title(\"Box Plot with Quartiles\")\n",
        "plt.text(1.05, q1, f\"Q1: {q1:.2f}\", fontsize=10, color=\"r\")\n",
        "plt.text(1.05, q2, f\"Q2: {q2:.2f}\", fontsize=10, color=\"r\")\n",
        "plt.text(1.05, q3, f\"Q3: {q3:.2f}\", fontsize=10, color=\"r\")\n",
        "plt.show()\n"
      ],
      "metadata": {
        "colab": {
          "base_uri": "https://localhost:8080/",
          "height": 452
        },
        "id": "_9nkUsM9X-a6",
        "outputId": "c66b6879-ae99-4798-84d0-7ac027d667ba"
      },
      "execution_count": null,
      "outputs": [
        {
          "output_type": "display_data",
          "data": {
            "text/plain": [
              "<Figure size 640x480 with 1 Axes>"
            ],
            "image/png": "[encoded data removed]"
          },
          "metadata": {}
        }
      ]
    },
    {
      "cell_type": "code",
      "source": [
        "import matplotlib.pyplot as plt\n",
        "import numpy as np\n",
        "\n",
        "# example data\n",
        "data = [3, 5, 7, 9, 11, 13, 15, 17, 19, 21]\n",
        "\n",
        "# calculate percentiles\n",
        "p25, p50, p75 = np.percentile(data, [25, 50, 75])\n",
        "\n",
        "# create histogram\n",
        "plt.hist(data, bins=5)\n",
        "plt.title(\"Histogram with Percentiles\")\n",
        "plt.axvline(p25, color=\"r\", linestyle=\"--\")\n",
        "plt.axvline(p50, color=\"r\", linestyle=\"--\")\n",
        "plt.axvline(p75, color=\"r\", linestyle=\"--\")\n",
        "plt.text(p25, 2, f\"P25: {p25:.2f}\", fontsize=10, color=\"r\")\n",
        "plt.text(p50, 2, f\"P50: {p50:.2f}\", fontsize=10, color=\"r\")\n",
        "plt.text(p75, 2, f\"P75: {p75:.2f}\", fontsize=10, color=\"r\")\n",
        "plt.show()\n",
        "\n"
      ],
      "metadata": {
        "colab": {
          "base_uri": "https://localhost:8080/",
          "height": 452
        },
        "id": "VeE-aXnJYCG2",
        "outputId": "b8270afc-d765-4481-c02d-07653ec293d1"
      },
      "execution_count": null,
      "outputs": [
        {
          "output_type": "display_data",
          "data": {
            "text/plain": [
              "<Figure size 640x480 with 1 Axes>"
            ],
            "image/png": "[encoded data removed]"
          },
          "metadata": {}
        }
      ]
    },
    {
      "cell_type": "markdown",
      "source": [
        "##**Activity: True or False**\n",
        "\n",
        "* True/False 1: Percentiles divide a dataset into four equal parts, each representing 25% of the data.\n",
        "\n",
        "* True/False 2: Quartiles divide a dataset into three equal parts, each representing 33.33% of the data.\n",
        "\n",
        "* True/False 3: The first quartile (Q1) is the 25th percentile of a dataset.\n",
        "\n",
        "* True/False 4: The second quartile (Q2) is the 75th percentile of a dataset.\n",
        "\n",
        "* True/False 5:  Variance is a measure of central tendency used to describe the average value of a dataset.\n",
        "\n"
      ],
      "metadata": {
        "id": "h_CULNkz8m7V"
      }
    },
    {
      "cell_type": "markdown",
      "source": [
        "## **Skewness and Kurtosis**"
      ],
      "metadata": {
        "id": "64IR1Epg4FKs"
      }
    },
    {
      "cell_type": "markdown",
      "source": [
        "📊 Skewness and Kurtosis are important measures of the shape of a distribution in descriptive statistics.\n",
        "\n",
        "📈 Skewness refers to the degree of asymmetry in a distribution. A positive skew indicates that the distribution has a longer tail on the right side, while a negative skew indicates a longer tail on the left side.\n",
        "\n",
        "📉 Kurtosis, on the other hand, measures the degree of peakedness of a distribution. A high kurtosis indicates that the distribution has a sharper peak and heavier tails, while a low kurtosis indicates a flatter peak and lighter tails.\n",
        "\n",
        "📊 Skewness can be calculated using the skew() function in the scipy.stats module in Python. The function takes an array of numbers as input and returns the skewness value."
      ],
      "metadata": {
        "id": "63Z3PiGe4JUb"
      }
    },
    {
      "cell_type": "markdown",
      "source": [
        "***Example:***"
      ],
      "metadata": {
        "id": "1wsxn1Bd4gm5"
      }
    },
    {
      "cell_type": "code",
      "source": [
        "import numpy as np\n",
        "from scipy.stats import skew\n",
        "\n",
        "data = np.array([1, 2, 3, 4, 5, 6, 7, 8, 9, 10])\n",
        "skewness = skew(data)\n",
        "\n",
        "print(\"Skewness:\", skewness)\n"
      ],
      "metadata": {
        "colab": {
          "base_uri": "https://localhost:8080/"
        },
        "id": "u3E-PCnu4jh4",
        "outputId": "bac8a444-35f3-4795-8290-a09927ed2b0a"
      },
      "execution_count": null,
      "outputs": [
        {
          "output_type": "stream",
          "name": "stdout",
          "text": [
            "Skewness: 0.0\n"
          ]
        }
      ]
    },
    {
      "cell_type": "markdown",
      "source": [
        "📊 Kurtosis can be calculated using the kurtosis() function in the scipy.stats module in Python. The function takes an array of numbers as input and returns the kurtosis value."
      ],
      "metadata": {
        "id": "Nxz4cP6A4me8"
      }
    },
    {
      "cell_type": "markdown",
      "source": [
        "***Example:***"
      ],
      "metadata": {
        "id": "CDwMZjeC4p2k"
      }
    },
    {
      "cell_type": "code",
      "source": [
        "import numpy as np\n",
        "from scipy.stats import kurtosis\n",
        "\n",
        "data = np.array([1, 2, 3, 4, 5, 6, 7, 8, 9, 10])\n",
        "kurt = kurtosis(data)\n",
        "\n",
        "print(\"Kurtosis:\", kurt)\n"
      ],
      "metadata": {
        "colab": {
          "base_uri": "https://localhost:8080/"
        },
        "id": "D5BLn6d74vfQ",
        "outputId": "9622daf8-2e15-476e-e5ac-94a929c7440e"
      },
      "execution_count": null,
      "outputs": [
        {
          "output_type": "stream",
          "name": "stdout",
          "text": [
            "Kurtosis: -1.2242424242424244\n"
          ]
        }
      ]
    },
    {
      "cell_type": "markdown",
      "source": [
        "📊 Skewness and kurtosis are useful in understanding the shape of a distribution and can help in choosing appropriate statistical methods for data analysis."
      ],
      "metadata": {
        "id": "aG-rd1rd4x8S"
      }
    },
    {
      "cell_type": "markdown",
      "source": [
        "### **1. Types of Skewness:**\n",
        "\n",
        "**Positive skewness:**\n",
        "\n",
        "A distribution is said to be positively skewed if its tail is longer on the positive side (to the right) of the distribution. This means that the majority of the data is on the left side of the distribution.\n",
        "\n",
        "**Negative skewness:**\n",
        "\n",
        "A distribution is said to be negatively skewed if its tail is longer on the negative side (to the left) of the distribution. This means that the majority of the data is on the right side of the distribution.\n",
        "\n",
        "**Zero skewness:**\n",
        "\n",
        "A distribution is said to have zero skewness if it is symmetric around its mean. This means that the left and right tails are of equal length.\n",
        "\n",
        "### **2. Types of Kurtosis:**\n",
        "\n",
        "**Leptokurtic:**\n",
        "\n",
        "A distribution is said to be leptokurtic if it has a high degree of peakedness. This means that the data is heavily concentrated around the mean, and the tails are relatively thin.\n",
        "\n",
        "**Mesokurtic:**\n",
        "\n",
        "A distribution is said to be mesokurtic if it has a moderate degree of peakedness. This means that the data is moderately concentrated around the mean, and the tails are neither too thick nor too thin.\n",
        "\n",
        "**Platykurtic:**\n",
        "\n",
        "A distribution is said to be platykurtic if it has a low degree of peakedness. This means that the data is widely spread out, and the tails are relatively thick."
      ],
      "metadata": {
        "id": "DWmegkWcVa0k"
      }
    },
    {
      "cell_type": "markdown",
      "source": [
        "**More Examples:**"
      ],
      "metadata": {
        "id": "0xI_rErsV2Wu"
      }
    },
    {
      "cell_type": "code",
      "source": [
        "import numpy as np\n",
        "import matplotlib.pyplot as plt\n",
        "from scipy.stats import norm\n",
        "\n",
        "# example data\n",
        "data = [1, 2, 3, 4, 5]\n",
        "\n",
        "# calculate mean and standard deviation\n",
        "mu, std = norm.fit(data)\n",
        "\n",
        "# plot histogram with normal distribution curve\n",
        "plt.hist(data, bins=10, density=True, alpha=0.6, color='g')\n",
        "xmin, xmax = plt.xlim()\n",
        "x = np.linspace(xmin, xmax, 100)\n",
        "p = norm.pdf(x, mu, std)\n",
        "plt.plot(x, p, 'k', linewidth=2)\n",
        "plt.title(\"Histogram with Normal Distribution Curve\")\n",
        "plt.show()\n"
      ],
      "metadata": {
        "colab": {
          "base_uri": "https://localhost:8080/",
          "height": 452
        },
        "id": "U16aK5ZxVxAD",
        "outputId": "8d5bac77-7085-4a14-e937-06fa77b43d88"
      },
      "execution_count": null,
      "outputs": [
        {
          "output_type": "display_data",
          "data": {
            "text/plain": [
              "<Figure size 640x480 with 1 Axes>"
            ],
            "image/png": "[encoded data removed]"
          },
          "metadata": {}
        }
      ]
    },
    {
      "cell_type": "code",
      "source": [
        "import matplotlib.pyplot as plt\n",
        "\n",
        "# example data\n",
        "data = [1, 2, 3, 4, 5]\n",
        "\n",
        "# create box plot\n",
        "plt.boxplot(data)\n",
        "plt.title(\"Box Plot\")\n",
        "plt.show()\n"
      ],
      "metadata": {
        "colab": {
          "base_uri": "https://localhost:8080/",
          "height": 452
        },
        "id": "elK-HG62Vyut",
        "outputId": "0590744e-1878-4a56-e971-90c6eab02b7d"
      },
      "execution_count": null,
      "outputs": [
        {
          "output_type": "display_data",
          "data": {
            "text/plain": [
              "<Figure size 640x480 with 1 Axes>"
            ],
            "image/png": "[encoded data removed]"
          },
          "metadata": {}
        }
      ]
    },
    {
      "cell_type": "markdown",
      "source": [
        "##**Activity: Fill in the blanks**\n",
        "\n",
        " * Skewness measures the ___ of the distribution of data points around the ___. Positive skewness indicates a longer tail on the ___ side, while negative skewness indicates a longer tail on the ___ side.\n",
        "\n",
        "\n",
        " * Kurtosis quantifies the degree of ___ or ___ in the tails of a probability distribution compared to the normal distribution. High kurtosis indicates ___ tails, while low kurtosis indicates ___ tails.\n",
        "\n",
        "\n",
        "* A normal distribution has a skewness of ___, and its kurtosis is ___.\n",
        "\n",
        "\n",
        "* In a positively skewed distribution, the ___ tail is longer, and the mean is ___ than the median. In a negatively skewed distribution, the ___ tail is longer, and the mean is ___ than the median.\n",
        "\n",
        "\n",
        " * Excess kurtosis is a measure of kurtosis that compares the distribution's kurtosis to that of a ___. If the excess kurtosis is positive, the distribution has ___ kurtosis compared to the normal distribution.\n"
      ],
      "metadata": {
        "id": "1-jS_8ju9qmz"
      }
    },
    {
      "cell_type": "markdown",
      "source": [
        "## **Outlier Detection and Treatment**"
      ],
      "metadata": {
        "id": "gYoJ1YiF41Ou"
      }
    },
    {
      "cell_type": "markdown",
      "source": [
        "🔍 Outlier Detection and Treatment:\n",
        "\n",
        "Outliers are data points that are significantly different from other data points in a dataset. Outliers can significantly affect the results of data analysis, so it is important to detect and treat them appropriately.\n",
        "\n",
        "Here are some important points to consider for outlier detection and treatment:\n",
        "\n",
        "**1. Identify outliers:**\n",
        "\n",
        "Use statistical methods such as box plots, scatter plots, or z-scores to identify potential outliers in your dataset.\n",
        "\n",
        "**2. Determine the cause:**\n",
        "\n",
        "Investigate the cause of outliers, whether it is due to data entry errors or a legitimate deviation from the norm.\n",
        "\n",
        "**3. Decide on treatment:**\n",
        "\n",
        "Decide whether to remove outliers or to treat them. Depending on the cause and impact of outliers, different treatments can be applied, such as replacing the outlier with a more appropriate value, removing the outlier entirely, or keeping the outlier in the analysis but using robust statistical methods.\n",
        "\n",
        "**4. Apply treatment:**\n",
        "\n",
        "Apply the chosen treatment method to the outliers.\n",
        "\n",
        "**5. Re-evaluate the dataset:**\n",
        "\n",
        "After treating the outliers, re-evaluate the dataset to ensure that the outliers no longer significantly impact the results of the analysis.\n",
        "\n",
        "***Here's an example of outlier detection using Z-score in Python:***"
      ],
      "metadata": {
        "id": "kIbL4A8P4_sQ"
      }
    },
    {
      "cell_type": "code",
      "source": [
        "import numpy as np\n",
        "# Sample dataset (with outliers)\n",
        "data = np.array([25, 30, 35, 40, 45, 50, 1000])\n",
        "# Calculate the z-scores for each data point\n",
        "z_scores = (data - np.mean(data)) / np.std(data)\n",
        "# Define a threshold for outlier detection (e.g., 2 standard deviations from the mean)\n",
        "threshold = 2\n",
        "# Identify outliers\n",
        "outliers = np.abs(z_scores) > threshold\n",
        "# Print the original dataset and the outliers\n",
        "print(\"Original data:\", data)\n",
        "print(\"Z-scores:\", z_scores)\n",
        "print(\"Outliers:\", data[outliers])"
      ],
      "metadata": {
        "colab": {
          "base_uri": "https://localhost:8080/"
        },
        "id": "UNjPc8T56YMP",
        "outputId": "2f8b1b88-cbe7-4aad-c277-e8da987ad4d3"
      },
      "execution_count": null,
      "outputs": [
        {
          "output_type": "stream",
          "name": "stdout",
          "text": [
            "Original data: [  25   30   35   40   45   50 1000]\n",
            "Z-scores: [-0.44523913 -0.43039783 -0.41555652 -0.40071522 -0.38587392 -0.37103261\n",
            "  2.44881523]\n",
            "Outliers: [1000]\n"
          ]
        }
      ]
    },
    {
      "cell_type": "markdown",
      "source": [
        "This code calculates the z-score of each data point and identifies any points with a z-score greater than 3 or less than -3 as outliers."
      ],
      "metadata": {
        "id": "qJLQtEdQ5xoM"
      }
    },
    {
      "cell_type": "markdown",
      "source": [
        "## **Conclusion:**"
      ],
      "metadata": {
        "id": "t3rRKVJa51Yi"
      }
    },
    {
      "cell_type": "markdown",
      "source": [
        "📊 Data summarization is an important step in the exploratory data analysis process.\n",
        "\n",
        "📈 Descriptive statistics help to summarize and describe the key features of a dataset.\n",
        "\n",
        "📉 Measures of central tendency such as mean, median, and mode help to identify the typical value of a dataset.\n",
        "\n",
        "📊 Measures of dispersion such as variance, standard deviation, and range help to identify the spread of data points.\n",
        "\n",
        "📈 Percentiles and quartiles provide information about the distribution of the dataset.\n",
        "\n",
        "📉 Skewness and kurtosis help to identify the shape of the distribution.\n",
        "\n",
        "📊 Outlier detection and treatment is an important step to identify and handle extreme values in a dataset.\n",
        "\n",
        "📈 Python provides a number of libraries such as NumPy, Pandas, and Matplotlib to perform data summarization and exploratory data analysis."
      ],
      "metadata": {
        "id": "H1T3-maS54VV"
      }
    },
    {
      "cell_type": "markdown",
      "source": [
        "# **✅ Summary ✅**"
      ],
      "metadata": {
        "id": "OL0HGyqHhgEF"
      }
    },
    {
      "cell_type": "markdown",
      "source": [
        "###📚 **What Did You Learn?** 🤔\n",
        "\n",
        "In this lesson, we covered the basics of 📊 data summarization 📊, which is an essential skill for anyone who wants to analyze data effectively.\n",
        "\n",
        "You learned about various measures of central tendency, such as mean, median, and mode, which help describe the typical value of a dataset. You also learned about measures of dispersion, such as variance and standard deviation, which help you understand the spread of the data.\n",
        "\n",
        "We discussed how to calculate percentiles and quartiles, which are useful for comparing data across different groups. We also covered measures of skewness and kurtosis, which help identify any outliers or unusual patterns in the data.\n",
        "\n",
        "Finally, we talked about outlier detection and treatment, which is an important aspect of data analysis. You learned how to detect outliers and decide how to treat them, depending on the nature of the data and the research question.\n",
        "\n",
        "💡 By the end of this lesson, you should be able to apply these techniques to any dataset, enabling you to draw meaningful insights and make informed decisions based on data.\n",
        "\n"
      ],
      "metadata": {
        "id": "2I9w6sRghkDT"
      }
    },
    {
      "cell_type": "markdown",
      "source": [
        "###👍 **Best Practices and Tips** 👍\n",
        "\n",
        "Here are some best practices and tips to keep in mind when working with data summarization techniques:\n",
        "\n",
        "🔍 Always explore your data first and look for patterns or trends that may affect your analysis.\n",
        "\n",
        "📊 Use appropriate measures of central tendency and dispersion based on the type of data you are analyzing.\n",
        "\n",
        "📈 When calculating percentiles and quartiles, make sure to use the correct formula and double-check your calculations.\n",
        "\n",
        "🔍 Always be on the lookout for outliers, and use appropriate techniques to treat them based on the nature of the data.\n",
        "\n",
        "📉 When interpreting measures of skewness and kurtosis, keep in mind that they are only indicative of the shape of the distribution and not necessarily a measure of its normality.\n",
        "\n",
        "💡 Always be critical of your results and consider multiple measures and techniques to ensure your analysis is accurate and reliable.\n",
        "\n",
        "🎓 By following these best practices and tips, you can ensure that your data analysis is thorough and reliable, enabling you to make informed decisions based on data.\n",
        "\n"
      ],
      "metadata": {
        "id": "P5FL4Xa8vdbH"
      }
    },
    {
      "cell_type": "markdown",
      "source": [
        "###🤔 **Shortcomings**\n",
        "\n",
        "Here are some shortcomings to keep in mind when working with data summarization techniques:\n",
        "\n",
        "📊 Data summarization techniques are only as good as the data you have. If your data is incomplete or inaccurate, your results may not be reliable.\n",
        "\n",
        "🔍 Outliers can sometimes be difficult to identify and treat appropriately, especially if there are multiple factors influencing the data.\n",
        "\n",
        "📈 Different measures of central tendency and dispersion can sometimes give conflicting results, making it challenging to interpret the data.\n",
        "\n",
        "📉 Measures of skewness and kurtosis can sometimes be misleading, especially if the sample size is small or the distribution is not normal.\n",
        "\n",
        "💡 Always be aware of the limitations of the techniques you are using, and consider using multiple techniques to cross-check your results and ensure they are reliable.\n",
        "\n",
        "🎓 By keeping these shortcomings in mind, you can ensure that your data analysis is thorough and accurate, enabling you to make informed decisions based on data."
      ],
      "metadata": {
        "id": "hBWSY4uMviI7"
      }
    },
    {
      "cell_type": "markdown",
      "source": [
        "# **➕ Additional Reading ➕**"
      ],
      "metadata": {
        "id": "oGS88rv2hk2E"
      }
    },
    {
      "cell_type": "markdown",
      "source": [
        "### **Mnemonic:**\n",
        "\n",
        "📖 Once upon a time, there were three friends, 🧑👧👦 named John, Sarah, and Alex. They were all big fans of data analysis and loved using various statistical techniques to solve problems.\n",
        "\n",
        "One day, they stumbled upon a mystery that needed to be solved. They found a bunch of data on the number of customers visiting a particular store in a month, and they needed to summarize the data to figure out what was happening.\n",
        "\n",
        "📊 First, they calculated the measures of central tendency to understand the typical number of customers visiting the store. They found that the mean number of customers was 200, the median was 190, and the mode was 185.\n",
        "\n",
        "📈 Next, they calculated the measures of dispersion to understand the spread of the data. They found that the range was 150, the variance was 400, and the standard deviation was 20.\n",
        "\n",
        "📉 They then calculated the percentiles and quartiles to compare the data across different groups. They found that the 25th percentile was 180, the 50th percentile was 190, and the 75th percentile was 205.\n",
        "\n",
        "🔍 As they were analyzing the data, they noticed that there were a few outliers that were significantly different from the rest of the data. So, they used the outlier detection techniques they learned to identify and treat the outliers.\n",
        "\n",
        "🎉 After analyzing the data, they found out that the store had an overall increase in customers over the month, with a few days having a significant increase in customer footfall. They also identified the cause of the increase, which helped the store improve their marketing strategy and bring in more customers.\n",
        "\n",
        "👍 Thanks to their understanding of data summarization techniques, John, Sarah, and Alex were able to solve the mystery and help the store improve their business."
      ],
      "metadata": {
        "id": "XtgswGyKhqHl"
      }
    },
    {
      "cell_type": "markdown",
      "source": [
        "### **If you are interested in learning more about data summarization techniques, here are some additional activities and readings you can explore:**\n",
        "\n",
        "👨‍💻 Online Tutorials: There are many online tutorials and courses that can teach you more about data summarization techniques, including Descriptive Statistics, Quartiles, and Outlier Detection. You can search for these tutorials on websites like Khan Academy, Coursera, or Udemy.\n",
        "\n",
        "📖 Books: There are many books that cover data summarization techniques in depth, including \"Statistics for Data Science\" by James D. Miller and \"Data Science Essentials in Python\" by Dmitry Sergeev.\n",
        "\n",
        "🎓 Practice Problems: You can also find practice problems and datasets online to help you practice your data summarization skills. You can try websites like Kaggle or DataCamp to find these problems.\n",
        "\n",
        "💡 Additional Tips: Lastly, you can learn more about data summarization techniques by practicing on your own data or experimenting with different types of data. The more you practice, the more confident you will become in your data analysis skills.\n",
        "\n",
        "🎓 By exploring these additional activities and readings, you can deepen your understanding of data summarization techniques and become a more effective data analyst."
      ],
      "metadata": {
        "id": "CVYthcDJwoTU"
      }
    },
    {
      "cell_type": "markdown",
      "source": [
        "### **Additional Resources**\n",
        "\n",
        "1. https://www.researchgate.net/publication/236049817_Statistical_notes_for_clinical_researchers_Assessing_normal_distribution_2_using_skewness_and_kurtosis\n",
        "\n",
        "2. https://www.researchgate.net/publication/51505618_Measures_of_central_tendency_The_mean"
      ],
      "metadata": {
        "id": "Ta0n8DK-7QdT"
      }
    },
    {
      "cell_type": "markdown",
      "source": [
        "# **Try it Yourself 📃**\n",
        "\n",
        "Are you ready to put your coding skills to the test and gain practical knowledge? We have some exciting coding questions waiting for you to solve! 🚀\n",
        "\n",
        "Your task is to attempt the coding questions associated with this lesson. These challenges have been thoughtfully designed to reinforce your understanding of the concepts covered in the course. You can find them in your dashboard under this lesson.\n",
        "\n",
        "Don't be shy! Share your findings, experiences, and any insights you gained while tackling these coding questions on the AlmaBetter community platform. Engage in discussions, help each other out, and celebrate your victories together!\n",
        "\n",
        "Remember, coding is not just about learning theory; it's about applying that knowledge to solve real-world problems. So, dive in, experiment, and have fun while honing your coding skills!\n",
        "Let's learn, grow, and inspire each other as a vibrant community of passionate learners. Happy coding! 💻 😊"
      ],
      "metadata": {
        "id": "I9gdaVcNv2ge"
      }
    },
    {
      "cell_type": "markdown",
      "source": [
        "## **Task 1**"
      ],
      "metadata": {
        "id": "7SN_QJW1v5i5"
      }
    },
    {
      "cell_type": "markdown",
      "source": [
        "###**Activity 1**"
      ],
      "metadata": {
        "id": "pxf_8Cc7LViC"
      }
    },
    {
      "cell_type": "markdown",
      "source": [
        "Suppose you are given the following dataset representing the number of hours slept by a group of students in a week:\n",
        "\n",
        "{6, 7, 8, 5, 6, 7, 9, 8, 6, 7, 5, 4, 8}\n",
        "\n",
        "a) Find the mean, median, and mode of the dataset.\n",
        "\n",
        "b) Which measure of central tendency would you use to summarize the data if you were to report it to someone who wants to know the typical amount of sleep the students get in a week? Explain your answer\n",
        "\n",
        "\n",
        "\n"
      ],
      "metadata": {
        "id": "zEKVdYziv5i6"
      }
    },
    {
      "cell_type": "markdown",
      "source": [
        "### **Activity 2**"
      ],
      "metadata": {
        "id": "msaWIbFJwGZf"
      }
    },
    {
      "cell_type": "markdown",
      "source": [
        "Suppose you are given the following dataset representing the weights (in pounds) of a group of dogs:\n",
        "\n",
        "{22, 24, 20, 18, 26, 25, 23}\n",
        "\n",
        "a) Find the range, variance, and standard deviation of the dataset.\n",
        "\n",
        "b) Interpret the values of the range, variance, and standard deviation in the context of the weights of the dogs.\n",
        "\n"
      ],
      "metadata": {
        "id": "A8t7gok0wGZg"
      }
    },
    {
      "cell_type": "markdown",
      "source": [
        "### **Activity 3**"
      ],
      "metadata": {
        "id": "JMlvGHSVwSkP"
      }
    },
    {
      "cell_type": "markdown",
      "source": [
        "Suppose you are given the following dataset representing the test scores of a group of students:\n",
        "\n",
        "{75, 80, 85, 90, 95, 100, 100, 100}\n",
        "\n",
        "a) Calculate the skewness and kurtosis of the dataset.\n",
        "\n",
        "b) Interpret the values of the skewness and kurtosis in the context of the distribution of test scores."
      ],
      "metadata": {
        "id": "Vpi7Nv7VwSkQ"
      }
    },
    {
      "cell_type": "markdown",
      "source": [
        "###**Activity 4**"
      ],
      "metadata": {
        "id": "N8TWmEJQwhaG"
      }
    },
    {
      "cell_type": "markdown",
      "source": [
        "In this , we will explore Outlier Detection and Treatment techniques on a dataset containing information about diamonds.\n",
        "\n",
        "Here is the link to the [dataset](https://drive.google.com/file/d/1B1kGDfvb2T5vmyjXuApg_YwVOtGFQvMb/view?usp=drive_link)\n",
        "\n",
        "The goal is to identify outliers in the dataset and apply appropriate techniques to treat them.\n",
        "\n",
        "Here are the tasks for this assignment:\n",
        "\n",
        "📥 Load the dataset from the Kaggle link provided above into a Pandas DataFrame.\n",
        "\n",
        "🔍 Conduct exploratory data analysis (EDA) to gain insights into the dataset.\n",
        "\n",
        "🎯 Identify outliers in the dataset using appropriate techniques.\n",
        "\n",
        "🛠️ Treat the identified outliers using appropriate techniques.\n",
        "\n",
        "🔄 Perform EDA again to see the impact of outlier treatment.\n",
        "\n",
        "🆓 You are free to use any technique you deem appropriate to identify and treat outliers in the dataset."
      ],
      "metadata": {
        "id": "uVH-KegfwhaZ"
      }
    },
    {
      "cell_type": "markdown",
      "source": [
        "###Answer"
      ],
      "metadata": {
        "id": "cBZz5oXyL9yx"
      }
    },
    {
      "cell_type": "code",
      "source": [
        "# Import necessary libraries\n",
        "\n",
        "\n",
        "# Load the dataset into a pandas dataframe\n",
        "\n",
        "# Select only the numeric columns\n",
        "\n",
        "\n",
        "# Conduct exploratory data analysis (EDA)\n",
        "\n",
        "\n",
        "# Check for missing values\n",
        "\n",
        "\n",
        "# Check the data types of each column\n",
        "\n",
        "\n",
        "# Check the range of values for each column\n",
        "\n",
        "\n",
        "# Check for correlations between columns\n",
        "\n",
        "# Visualize the data using histograms, boxplots, scatterplots, etc.\n",
        "\n",
        "\n",
        "\n",
        "# Identify outliers in the dataset using appropriate techniques\n",
        "# Z-score method\n",
        "\n",
        "\n",
        "# IQR method\n",
        "\n",
        "\n",
        "# Treat the identified outliers using appropriate techniques\n",
        "# Winsorization\n",
        "\n",
        "\n",
        "# Perform EDA again to see the impact of outlier treatment\n",
        "# Compare the results of your initial EDA with the EDA after outlier treatment\n",
        "\n"
      ],
      "metadata": {
        "id": "K-zOtLJIoMub"
      },
      "execution_count": null,
      "outputs": []
    },
    {
      "cell_type": "markdown",
      "source": [
        "## **Task 2**"
      ],
      "metadata": {
        "id": "latjSwI-oe1W"
      }
    },
    {
      "cell_type": "markdown",
      "source": [
        "**🔴Share an alternative approach to solving one of the problems within your Cohort group on the AlmaBetter Community Platform.🔴**"
      ],
      "metadata": {
        "id": "qSH3X9_zojBs"
      }
    }
  ]
}